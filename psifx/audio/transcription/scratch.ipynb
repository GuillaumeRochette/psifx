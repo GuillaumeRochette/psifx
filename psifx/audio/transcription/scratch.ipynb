{
 "cells": [
  {
   "cell_type": "code",
   "execution_count": null,
   "metadata": {
    "collapsed": true
   },
   "outputs": [],
   "source": [
    "from pathlib import Path\n",
    "\n",
    "import pandas as pd\n",
    "\n",
    "from psifx.io import json, rttm, vtt\n",
    "import numpy as np"
   ]
  },
  {
   "cell_type": "code",
   "execution_count": null,
   "outputs": [],
   "source": [
    "transcription_path = (\n",
    "    \"/home/guillaume/Datasets/UNIL/CH.102/Transcriptions/CH.102.combined.vtt\"\n",
    ")\n",
    "diarization_path = (\n",
    "    \"/home/guillaume/Datasets/UNIL/CH.102/Diarizations/CH.102.combined.rttm\"\n",
    ")\n",
    "identification_path = (\n",
    "    \"/home/guillaume/Datasets/UNIL/CH.102/Identifications/CH.102.combined.json\"\n",
    ")\n",
    "enhanced_transcription_path = (\n",
    "    \"/home/guillaume/Datasets/UNIL/CH.102/Transcriptions/CH.102.combined.enhanced.vtt\"\n",
    ")"
   ],
   "metadata": {
    "collapsed": false
   }
  },
  {
   "cell_type": "code",
   "execution_count": null,
   "outputs": [],
   "source": [
    "transcription = vtt.VTTReader.read(transcription_path)\n",
    "transcription = pd.DataFrame.from_records(transcription)\n",
    "transcription"
   ],
   "metadata": {
    "collapsed": false
   }
  },
  {
   "cell_type": "code",
   "execution_count": null,
   "outputs": [],
   "source": [
    "diarization = rttm.RTTMReader.read(diarization_path)\n",
    "diarization"
   ],
   "metadata": {
    "collapsed": false
   }
  },
  {
   "cell_type": "code",
   "execution_count": null,
   "outputs": [],
   "source": [
    "identification = json.JSONReader.read(identification_path)\n",
    "identification"
   ],
   "metadata": {
    "collapsed": false
   }
  },
  {
   "cell_type": "code",
   "execution_count": null,
   "outputs": [],
   "source": [
    "transcription_starts = transcription[\"start\"].to_numpy()\n",
    "transcription_ends = transcription[\"end\"].to_numpy()\n",
    "\n",
    "diarization_starts = diarization[\"start\"].to_numpy()\n",
    "diarization_ends = diarization[\"end\"].to_numpy()\n",
    "\n",
    "print(transcription_starts.shape, transcription_ends.shape)\n",
    "print(diarization_starts.shape, diarization_ends.shape)"
   ],
   "metadata": {
    "collapsed": false
   }
  }
 ],
 "metadata": {
  "kernelspec": {
   "display_name": "Python 3",
   "language": "python",
   "name": "python3"
  },
  "language_info": {
   "codemirror_mode": {
    "name": "ipython",
    "version": 2
   },
   "file_extension": ".py",
   "mimetype": "text/x-python",
   "name": "python",
   "nbconvert_exporter": "python",
   "pygments_lexer": "ipython2",
   "version": "2.7.6"
  }
 },
 "nbformat": 4,
 "nbformat_minor": 0
}
