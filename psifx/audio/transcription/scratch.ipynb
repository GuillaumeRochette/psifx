{
 "cells": [
  {
   "cell_type": "code",
   "execution_count": 1,
   "metadata": {
    "collapsed": true,
    "ExecuteTime": {
     "end_time": "2023-07-08T11:19:10.564217894Z",
     "start_time": "2023-07-08T11:19:10.342914352Z"
    }
   },
   "outputs": [],
   "source": [
    "from pathlib import Path\n",
    "\n",
    "import pandas as pd\n",
    "\n",
    "from psifx.io import json, rttm, vtt"
   ]
  },
  {
   "cell_type": "code",
   "execution_count": 2,
   "outputs": [],
   "source": [
    "root = Path(\"/home/guillaume/Datasets/UNIL/CH.102\")\n",
    "transcription_path = root / \"Transcriptions/Mixed.normalized.vtt\"\n",
    "diarization_path = root / \"Diarizations/Mixed.normalized.rttm\"\n",
    "identification_path = root / \"Identifications/Mixed.normalized.json\"\n",
    "enhanced_transcription_path = root / \"Transcriptions/Mixed.normalized.enhanced.vtt\""
   ],
   "metadata": {
    "collapsed": false,
    "ExecuteTime": {
     "end_time": "2023-07-08T11:19:10.571654232Z",
     "start_time": "2023-07-08T11:19:10.566095169Z"
    }
   }
  },
  {
   "cell_type": "code",
   "execution_count": 3,
   "outputs": [
    {
     "name": "stderr",
     "output_type": "stream",
     "text": [
      "Reading: 100%|██████████| 45/45 [00:00<00:00, 125913.06it/s]\n"
     ]
    },
    {
     "data": {
      "text/plain": "    start   end speaker                                               text\n0     0.0   9.0    None  On peut parler ? Du coup, t'as fait quoi ce we...\n1     9.0  13.0    None  Ce que j'ai fait ce weekend, j'avais la nuance...\n2    13.0  14.0    None                                Ce qui est Arthur ?\n3    14.0  16.0    None  C'est un des potes, tu sais avec qui je vais m...\n4    16.0  18.0    None                                     Super bizarre.\n5    18.0  23.0    None  Ok, il était là ou pas au soirée que t'as fait...\n6    23.0  26.0    None                  Il était pas là la dernière, non.\n7    26.0  29.0    None                   Ah c'est ça, t'es pas le pépel ?\n8    30.0  32.0    None                              Non, il a jamais pas.\n9    32.0  34.0    None       Ah ok, je ne pense pas que je vais à Kissel.\n10   34.0  37.0    None  Quand je mangeais avec lui, on mangeait avec t...\n11   37.0  40.0    None         Ok, du coup c'était son anive, tu as dit ?\n12   40.0  42.0    None         Ah c'est pour ça que tu n'as pas venu à...\n13   42.0  44.0    None                              Ouais, ton truc de...\n14   44.0  45.0    None                                   Artifice, ouais.\n15   45.0  46.0    None                                                Ok.\n16   46.0  48.0    None  Ce qui est samedi, je vais à une soirée chez u...\n17   48.0  49.0    None                                          Le gars ?\n18   49.0  52.0    None           Le cousin, je crois que tu vas à Kissel.\n19   52.0  53.0    None                                          Je crois.\n20   53.0  55.0    None                       Non, c'est ton vrai cousin ?\n21   55.0  57.0    None                        Non, c'est ton vrai cousin.\n22   57.0  59.0    None                        T'arrêtes, c'est super con.\n23   59.0  61.0    None                      Mais tu veux qu'il se passe ?\n24   61.0  64.0    None                     Oui, le boulon grand maigre...\n25   64.0  66.0    None  En fait, je vais rencontrer Kéhli avec Kéhli e...\n26   68.0  69.0    None                                     Non, c'est ça.\n27   69.0  70.0    None                                  Non, je confonds.\n28   70.0  71.0    None                      Oui, grand avec des lunettes.\n29   71.0  74.0    None              Oui, ah, je vois pourquoi je connais.\n30   76.0  77.0    None                                             Voilà.\n31   77.0  79.0    None                         D'accord, ok, c'est cool ?\n32   79.0  80.0    None                                  Oui, tu sais pas.\n33   80.0  82.0    None                      C'est toi qui passe la nuit ?\n34   82.0  83.0    None                                     J'ai combatté.\n35   83.0  84.0    None                                 Tu fais combatté ?\n36   84.0  85.0    None                                               Oui.\n37   85.0  87.0    None  Oui, mais t'as pris cher entre le temps de la ...\n38   87.0  89.0    None                        Ouais, je t'en prie un peu.\n39   89.0  90.0    None                                            Mais...\n40   90.0  91.0    None                                             Ouais.\n41   91.0  93.0    None                                              Et...\n42   93.0  94.0    None                                  Ouais, du coup...\n43   94.0  96.0    None             Tu veux le dire entre eux qu'en plus ?\n44   96.0  99.0    None           T'as dit que t'as fait quoi, entre eux ?",
      "text/html": "<div>\n<style scoped>\n    .dataframe tbody tr th:only-of-type {\n        vertical-align: middle;\n    }\n\n    .dataframe tbody tr th {\n        vertical-align: top;\n    }\n\n    .dataframe thead th {\n        text-align: right;\n    }\n</style>\n<table border=\"1\" class=\"dataframe\">\n  <thead>\n    <tr style=\"text-align: right;\">\n      <th></th>\n      <th>start</th>\n      <th>end</th>\n      <th>speaker</th>\n      <th>text</th>\n    </tr>\n  </thead>\n  <tbody>\n    <tr>\n      <th>0</th>\n      <td>0.0</td>\n      <td>9.0</td>\n      <td>None</td>\n      <td>On peut parler ? Du coup, t'as fait quoi ce we...</td>\n    </tr>\n    <tr>\n      <th>1</th>\n      <td>9.0</td>\n      <td>13.0</td>\n      <td>None</td>\n      <td>Ce que j'ai fait ce weekend, j'avais la nuance...</td>\n    </tr>\n    <tr>\n      <th>2</th>\n      <td>13.0</td>\n      <td>14.0</td>\n      <td>None</td>\n      <td>Ce qui est Arthur ?</td>\n    </tr>\n    <tr>\n      <th>3</th>\n      <td>14.0</td>\n      <td>16.0</td>\n      <td>None</td>\n      <td>C'est un des potes, tu sais avec qui je vais m...</td>\n    </tr>\n    <tr>\n      <th>4</th>\n      <td>16.0</td>\n      <td>18.0</td>\n      <td>None</td>\n      <td>Super bizarre.</td>\n    </tr>\n    <tr>\n      <th>5</th>\n      <td>18.0</td>\n      <td>23.0</td>\n      <td>None</td>\n      <td>Ok, il était là ou pas au soirée que t'as fait...</td>\n    </tr>\n    <tr>\n      <th>6</th>\n      <td>23.0</td>\n      <td>26.0</td>\n      <td>None</td>\n      <td>Il était pas là la dernière, non.</td>\n    </tr>\n    <tr>\n      <th>7</th>\n      <td>26.0</td>\n      <td>29.0</td>\n      <td>None</td>\n      <td>Ah c'est ça, t'es pas le pépel ?</td>\n    </tr>\n    <tr>\n      <th>8</th>\n      <td>30.0</td>\n      <td>32.0</td>\n      <td>None</td>\n      <td>Non, il a jamais pas.</td>\n    </tr>\n    <tr>\n      <th>9</th>\n      <td>32.0</td>\n      <td>34.0</td>\n      <td>None</td>\n      <td>Ah ok, je ne pense pas que je vais à Kissel.</td>\n    </tr>\n    <tr>\n      <th>10</th>\n      <td>34.0</td>\n      <td>37.0</td>\n      <td>None</td>\n      <td>Quand je mangeais avec lui, on mangeait avec t...</td>\n    </tr>\n    <tr>\n      <th>11</th>\n      <td>37.0</td>\n      <td>40.0</td>\n      <td>None</td>\n      <td>Ok, du coup c'était son anive, tu as dit ?</td>\n    </tr>\n    <tr>\n      <th>12</th>\n      <td>40.0</td>\n      <td>42.0</td>\n      <td>None</td>\n      <td>Ah c'est pour ça que tu n'as pas venu à...</td>\n    </tr>\n    <tr>\n      <th>13</th>\n      <td>42.0</td>\n      <td>44.0</td>\n      <td>None</td>\n      <td>Ouais, ton truc de...</td>\n    </tr>\n    <tr>\n      <th>14</th>\n      <td>44.0</td>\n      <td>45.0</td>\n      <td>None</td>\n      <td>Artifice, ouais.</td>\n    </tr>\n    <tr>\n      <th>15</th>\n      <td>45.0</td>\n      <td>46.0</td>\n      <td>None</td>\n      <td>Ok.</td>\n    </tr>\n    <tr>\n      <th>16</th>\n      <td>46.0</td>\n      <td>48.0</td>\n      <td>None</td>\n      <td>Ce qui est samedi, je vais à une soirée chez u...</td>\n    </tr>\n    <tr>\n      <th>17</th>\n      <td>48.0</td>\n      <td>49.0</td>\n      <td>None</td>\n      <td>Le gars ?</td>\n    </tr>\n    <tr>\n      <th>18</th>\n      <td>49.0</td>\n      <td>52.0</td>\n      <td>None</td>\n      <td>Le cousin, je crois que tu vas à Kissel.</td>\n    </tr>\n    <tr>\n      <th>19</th>\n      <td>52.0</td>\n      <td>53.0</td>\n      <td>None</td>\n      <td>Je crois.</td>\n    </tr>\n    <tr>\n      <th>20</th>\n      <td>53.0</td>\n      <td>55.0</td>\n      <td>None</td>\n      <td>Non, c'est ton vrai cousin ?</td>\n    </tr>\n    <tr>\n      <th>21</th>\n      <td>55.0</td>\n      <td>57.0</td>\n      <td>None</td>\n      <td>Non, c'est ton vrai cousin.</td>\n    </tr>\n    <tr>\n      <th>22</th>\n      <td>57.0</td>\n      <td>59.0</td>\n      <td>None</td>\n      <td>T'arrêtes, c'est super con.</td>\n    </tr>\n    <tr>\n      <th>23</th>\n      <td>59.0</td>\n      <td>61.0</td>\n      <td>None</td>\n      <td>Mais tu veux qu'il se passe ?</td>\n    </tr>\n    <tr>\n      <th>24</th>\n      <td>61.0</td>\n      <td>64.0</td>\n      <td>None</td>\n      <td>Oui, le boulon grand maigre...</td>\n    </tr>\n    <tr>\n      <th>25</th>\n      <td>64.0</td>\n      <td>66.0</td>\n      <td>None</td>\n      <td>En fait, je vais rencontrer Kéhli avec Kéhli e...</td>\n    </tr>\n    <tr>\n      <th>26</th>\n      <td>68.0</td>\n      <td>69.0</td>\n      <td>None</td>\n      <td>Non, c'est ça.</td>\n    </tr>\n    <tr>\n      <th>27</th>\n      <td>69.0</td>\n      <td>70.0</td>\n      <td>None</td>\n      <td>Non, je confonds.</td>\n    </tr>\n    <tr>\n      <th>28</th>\n      <td>70.0</td>\n      <td>71.0</td>\n      <td>None</td>\n      <td>Oui, grand avec des lunettes.</td>\n    </tr>\n    <tr>\n      <th>29</th>\n      <td>71.0</td>\n      <td>74.0</td>\n      <td>None</td>\n      <td>Oui, ah, je vois pourquoi je connais.</td>\n    </tr>\n    <tr>\n      <th>30</th>\n      <td>76.0</td>\n      <td>77.0</td>\n      <td>None</td>\n      <td>Voilà.</td>\n    </tr>\n    <tr>\n      <th>31</th>\n      <td>77.0</td>\n      <td>79.0</td>\n      <td>None</td>\n      <td>D'accord, ok, c'est cool ?</td>\n    </tr>\n    <tr>\n      <th>32</th>\n      <td>79.0</td>\n      <td>80.0</td>\n      <td>None</td>\n      <td>Oui, tu sais pas.</td>\n    </tr>\n    <tr>\n      <th>33</th>\n      <td>80.0</td>\n      <td>82.0</td>\n      <td>None</td>\n      <td>C'est toi qui passe la nuit ?</td>\n    </tr>\n    <tr>\n      <th>34</th>\n      <td>82.0</td>\n      <td>83.0</td>\n      <td>None</td>\n      <td>J'ai combatté.</td>\n    </tr>\n    <tr>\n      <th>35</th>\n      <td>83.0</td>\n      <td>84.0</td>\n      <td>None</td>\n      <td>Tu fais combatté ?</td>\n    </tr>\n    <tr>\n      <th>36</th>\n      <td>84.0</td>\n      <td>85.0</td>\n      <td>None</td>\n      <td>Oui.</td>\n    </tr>\n    <tr>\n      <th>37</th>\n      <td>85.0</td>\n      <td>87.0</td>\n      <td>None</td>\n      <td>Oui, mais t'as pris cher entre le temps de la ...</td>\n    </tr>\n    <tr>\n      <th>38</th>\n      <td>87.0</td>\n      <td>89.0</td>\n      <td>None</td>\n      <td>Ouais, je t'en prie un peu.</td>\n    </tr>\n    <tr>\n      <th>39</th>\n      <td>89.0</td>\n      <td>90.0</td>\n      <td>None</td>\n      <td>Mais...</td>\n    </tr>\n    <tr>\n      <th>40</th>\n      <td>90.0</td>\n      <td>91.0</td>\n      <td>None</td>\n      <td>Ouais.</td>\n    </tr>\n    <tr>\n      <th>41</th>\n      <td>91.0</td>\n      <td>93.0</td>\n      <td>None</td>\n      <td>Et...</td>\n    </tr>\n    <tr>\n      <th>42</th>\n      <td>93.0</td>\n      <td>94.0</td>\n      <td>None</td>\n      <td>Ouais, du coup...</td>\n    </tr>\n    <tr>\n      <th>43</th>\n      <td>94.0</td>\n      <td>96.0</td>\n      <td>None</td>\n      <td>Tu veux le dire entre eux qu'en plus ?</td>\n    </tr>\n    <tr>\n      <th>44</th>\n      <td>96.0</td>\n      <td>99.0</td>\n      <td>None</td>\n      <td>T'as dit que t'as fait quoi, entre eux ?</td>\n    </tr>\n  </tbody>\n</table>\n</div>"
     },
     "execution_count": 3,
     "metadata": {},
     "output_type": "execute_result"
    }
   ],
   "source": [
    "transcription = vtt.VTTReader.read(transcription_path)\n",
    "transcription = pd.DataFrame.from_records(transcription)\n",
    "transcription"
   ],
   "metadata": {
    "collapsed": false,
    "ExecuteTime": {
     "end_time": "2023-07-08T11:19:38.309842611Z",
     "start_time": "2023-07-08T11:19:38.228614191Z"
    }
   }
  },
  {
   "cell_type": "code",
   "execution_count": 4,
   "outputs": [
    {
     "name": "stderr",
     "output_type": "stream",
     "text": [
      "Decoding: 100%|██████████| 26/26 [00:00<00:00, 1109.29it/s]\n"
     ]
    },
    {
     "data": {
      "text/plain": "       type         file_stem  channel   start  duration  orthography  \\\n0   SPEAKER  Mixed.normalized        1   5.776     4.061          NaN   \n1   SPEAKER  Mixed.normalized        1  10.009     1.024          NaN   \n2   SPEAKER  Mixed.normalized        1  12.500     3.003          NaN   \n3   SPEAKER  Mixed.normalized        1  13.251     0.512          NaN   \n4   SPEAKER  Mixed.normalized        1  16.305     0.171          NaN   \n5   SPEAKER  Mixed.normalized        1  16.476     6.570          NaN   \n6   SPEAKER  Mixed.normalized        1  24.036     3.993          NaN   \n7   SPEAKER  Mixed.normalized        1  26.049     0.358          NaN   \n8   SPEAKER  Mixed.normalized        1  27.517     1.280          NaN   \n9   SPEAKER  Mixed.normalized        1  29.582     1.775          NaN   \n10  SPEAKER  Mixed.normalized        1  31.510     2.201          NaN   \n11  SPEAKER  Mixed.normalized        1  33.626     2.509          NaN   \n12  SPEAKER  Mixed.normalized        1  36.067     5.990          NaN   \n13  SPEAKER  Mixed.normalized        1  39.923     0.597          NaN   \n14  SPEAKER  Mixed.normalized        1  42.056     1.365          NaN   \n15  SPEAKER  Mixed.normalized        1  43.592     1.229          NaN   \n16  SPEAKER  Mixed.normalized        1  44.770     2.816          NaN   \n17  SPEAKER  Mixed.normalized        1  48.439     2.577          NaN   \n18  SPEAKER  Mixed.normalized        1  48.507     0.410          NaN   \n19  SPEAKER  Mixed.normalized        1  51.084     7.918          NaN   \n20  SPEAKER  Mixed.normalized        1  59.002     2.696          NaN   \n21  SPEAKER  Mixed.normalized        1  61.101     5.017          NaN   \n22  SPEAKER  Mixed.normalized        1  67.688     1.485          NaN   \n23  SPEAKER  Mixed.normalized        1  68.473     9.915          NaN   \n24  SPEAKER  Mixed.normalized        1  82.329    16.007          NaN   \n25  SPEAKER  Mixed.normalized        1  99.224     0.768          NaN   \n\n    speaker_type speaker_name  confidence_score  signal_lookahead_time     end  \n0            NaN   SPEAKER_01               NaN                    NaN   9.837  \n1            NaN   SPEAKER_00               NaN                    NaN  11.033  \n2            NaN   SPEAKER_00               NaN                    NaN  15.503  \n3            NaN   SPEAKER_01               NaN                    NaN  13.763  \n4            NaN   SPEAKER_00               NaN                    NaN  16.476  \n5            NaN   SPEAKER_01               NaN                    NaN  23.046  \n6            NaN   SPEAKER_00               NaN                    NaN  28.029  \n7            NaN   SPEAKER_01               NaN                    NaN  26.407  \n8            NaN   SPEAKER_01               NaN                    NaN  28.797  \n9            NaN   SPEAKER_00               NaN                    NaN  31.357  \n10           NaN   SPEAKER_01               NaN                    NaN  33.711  \n11           NaN   SPEAKER_00               NaN                    NaN  36.135  \n12           NaN   SPEAKER_01               NaN                    NaN  42.057  \n13           NaN   SPEAKER_00               NaN                    NaN  40.520  \n14           NaN   SPEAKER_00               NaN                    NaN  43.421  \n15           NaN   SPEAKER_01               NaN                    NaN  44.821  \n16           NaN   SPEAKER_00               NaN                    NaN  47.586  \n17           NaN   SPEAKER_00               NaN                    NaN  51.016  \n18           NaN   SPEAKER_01               NaN                    NaN  48.917  \n19           NaN   SPEAKER_01               NaN                    NaN  59.002  \n20           NaN   SPEAKER_00               NaN                    NaN  61.698  \n21           NaN   SPEAKER_01               NaN                    NaN  66.118  \n22           NaN   SPEAKER_00               NaN                    NaN  69.173  \n23           NaN   SPEAKER_01               NaN                    NaN  78.388  \n24           NaN   SPEAKER_01               NaN                    NaN  98.336  \n25           NaN   SPEAKER_00               NaN                    NaN  99.992  ",
      "text/html": "<div>\n<style scoped>\n    .dataframe tbody tr th:only-of-type {\n        vertical-align: middle;\n    }\n\n    .dataframe tbody tr th {\n        vertical-align: top;\n    }\n\n    .dataframe thead th {\n        text-align: right;\n    }\n</style>\n<table border=\"1\" class=\"dataframe\">\n  <thead>\n    <tr style=\"text-align: right;\">\n      <th></th>\n      <th>type</th>\n      <th>file_stem</th>\n      <th>channel</th>\n      <th>start</th>\n      <th>duration</th>\n      <th>orthography</th>\n      <th>speaker_type</th>\n      <th>speaker_name</th>\n      <th>confidence_score</th>\n      <th>signal_lookahead_time</th>\n      <th>end</th>\n    </tr>\n  </thead>\n  <tbody>\n    <tr>\n      <th>0</th>\n      <td>SPEAKER</td>\n      <td>Mixed.normalized</td>\n      <td>1</td>\n      <td>5.776</td>\n      <td>4.061</td>\n      <td>NaN</td>\n      <td>NaN</td>\n      <td>SPEAKER_01</td>\n      <td>NaN</td>\n      <td>NaN</td>\n      <td>9.837</td>\n    </tr>\n    <tr>\n      <th>1</th>\n      <td>SPEAKER</td>\n      <td>Mixed.normalized</td>\n      <td>1</td>\n      <td>10.009</td>\n      <td>1.024</td>\n      <td>NaN</td>\n      <td>NaN</td>\n      <td>SPEAKER_00</td>\n      <td>NaN</td>\n      <td>NaN</td>\n      <td>11.033</td>\n    </tr>\n    <tr>\n      <th>2</th>\n      <td>SPEAKER</td>\n      <td>Mixed.normalized</td>\n      <td>1</td>\n      <td>12.500</td>\n      <td>3.003</td>\n      <td>NaN</td>\n      <td>NaN</td>\n      <td>SPEAKER_00</td>\n      <td>NaN</td>\n      <td>NaN</td>\n      <td>15.503</td>\n    </tr>\n    <tr>\n      <th>3</th>\n      <td>SPEAKER</td>\n      <td>Mixed.normalized</td>\n      <td>1</td>\n      <td>13.251</td>\n      <td>0.512</td>\n      <td>NaN</td>\n      <td>NaN</td>\n      <td>SPEAKER_01</td>\n      <td>NaN</td>\n      <td>NaN</td>\n      <td>13.763</td>\n    </tr>\n    <tr>\n      <th>4</th>\n      <td>SPEAKER</td>\n      <td>Mixed.normalized</td>\n      <td>1</td>\n      <td>16.305</td>\n      <td>0.171</td>\n      <td>NaN</td>\n      <td>NaN</td>\n      <td>SPEAKER_00</td>\n      <td>NaN</td>\n      <td>NaN</td>\n      <td>16.476</td>\n    </tr>\n    <tr>\n      <th>5</th>\n      <td>SPEAKER</td>\n      <td>Mixed.normalized</td>\n      <td>1</td>\n      <td>16.476</td>\n      <td>6.570</td>\n      <td>NaN</td>\n      <td>NaN</td>\n      <td>SPEAKER_01</td>\n      <td>NaN</td>\n      <td>NaN</td>\n      <td>23.046</td>\n    </tr>\n    <tr>\n      <th>6</th>\n      <td>SPEAKER</td>\n      <td>Mixed.normalized</td>\n      <td>1</td>\n      <td>24.036</td>\n      <td>3.993</td>\n      <td>NaN</td>\n      <td>NaN</td>\n      <td>SPEAKER_00</td>\n      <td>NaN</td>\n      <td>NaN</td>\n      <td>28.029</td>\n    </tr>\n    <tr>\n      <th>7</th>\n      <td>SPEAKER</td>\n      <td>Mixed.normalized</td>\n      <td>1</td>\n      <td>26.049</td>\n      <td>0.358</td>\n      <td>NaN</td>\n      <td>NaN</td>\n      <td>SPEAKER_01</td>\n      <td>NaN</td>\n      <td>NaN</td>\n      <td>26.407</td>\n    </tr>\n    <tr>\n      <th>8</th>\n      <td>SPEAKER</td>\n      <td>Mixed.normalized</td>\n      <td>1</td>\n      <td>27.517</td>\n      <td>1.280</td>\n      <td>NaN</td>\n      <td>NaN</td>\n      <td>SPEAKER_01</td>\n      <td>NaN</td>\n      <td>NaN</td>\n      <td>28.797</td>\n    </tr>\n    <tr>\n      <th>9</th>\n      <td>SPEAKER</td>\n      <td>Mixed.normalized</td>\n      <td>1</td>\n      <td>29.582</td>\n      <td>1.775</td>\n      <td>NaN</td>\n      <td>NaN</td>\n      <td>SPEAKER_00</td>\n      <td>NaN</td>\n      <td>NaN</td>\n      <td>31.357</td>\n    </tr>\n    <tr>\n      <th>10</th>\n      <td>SPEAKER</td>\n      <td>Mixed.normalized</td>\n      <td>1</td>\n      <td>31.510</td>\n      <td>2.201</td>\n      <td>NaN</td>\n      <td>NaN</td>\n      <td>SPEAKER_01</td>\n      <td>NaN</td>\n      <td>NaN</td>\n      <td>33.711</td>\n    </tr>\n    <tr>\n      <th>11</th>\n      <td>SPEAKER</td>\n      <td>Mixed.normalized</td>\n      <td>1</td>\n      <td>33.626</td>\n      <td>2.509</td>\n      <td>NaN</td>\n      <td>NaN</td>\n      <td>SPEAKER_00</td>\n      <td>NaN</td>\n      <td>NaN</td>\n      <td>36.135</td>\n    </tr>\n    <tr>\n      <th>12</th>\n      <td>SPEAKER</td>\n      <td>Mixed.normalized</td>\n      <td>1</td>\n      <td>36.067</td>\n      <td>5.990</td>\n      <td>NaN</td>\n      <td>NaN</td>\n      <td>SPEAKER_01</td>\n      <td>NaN</td>\n      <td>NaN</td>\n      <td>42.057</td>\n    </tr>\n    <tr>\n      <th>13</th>\n      <td>SPEAKER</td>\n      <td>Mixed.normalized</td>\n      <td>1</td>\n      <td>39.923</td>\n      <td>0.597</td>\n      <td>NaN</td>\n      <td>NaN</td>\n      <td>SPEAKER_00</td>\n      <td>NaN</td>\n      <td>NaN</td>\n      <td>40.520</td>\n    </tr>\n    <tr>\n      <th>14</th>\n      <td>SPEAKER</td>\n      <td>Mixed.normalized</td>\n      <td>1</td>\n      <td>42.056</td>\n      <td>1.365</td>\n      <td>NaN</td>\n      <td>NaN</td>\n      <td>SPEAKER_00</td>\n      <td>NaN</td>\n      <td>NaN</td>\n      <td>43.421</td>\n    </tr>\n    <tr>\n      <th>15</th>\n      <td>SPEAKER</td>\n      <td>Mixed.normalized</td>\n      <td>1</td>\n      <td>43.592</td>\n      <td>1.229</td>\n      <td>NaN</td>\n      <td>NaN</td>\n      <td>SPEAKER_01</td>\n      <td>NaN</td>\n      <td>NaN</td>\n      <td>44.821</td>\n    </tr>\n    <tr>\n      <th>16</th>\n      <td>SPEAKER</td>\n      <td>Mixed.normalized</td>\n      <td>1</td>\n      <td>44.770</td>\n      <td>2.816</td>\n      <td>NaN</td>\n      <td>NaN</td>\n      <td>SPEAKER_00</td>\n      <td>NaN</td>\n      <td>NaN</td>\n      <td>47.586</td>\n    </tr>\n    <tr>\n      <th>17</th>\n      <td>SPEAKER</td>\n      <td>Mixed.normalized</td>\n      <td>1</td>\n      <td>48.439</td>\n      <td>2.577</td>\n      <td>NaN</td>\n      <td>NaN</td>\n      <td>SPEAKER_00</td>\n      <td>NaN</td>\n      <td>NaN</td>\n      <td>51.016</td>\n    </tr>\n    <tr>\n      <th>18</th>\n      <td>SPEAKER</td>\n      <td>Mixed.normalized</td>\n      <td>1</td>\n      <td>48.507</td>\n      <td>0.410</td>\n      <td>NaN</td>\n      <td>NaN</td>\n      <td>SPEAKER_01</td>\n      <td>NaN</td>\n      <td>NaN</td>\n      <td>48.917</td>\n    </tr>\n    <tr>\n      <th>19</th>\n      <td>SPEAKER</td>\n      <td>Mixed.normalized</td>\n      <td>1</td>\n      <td>51.084</td>\n      <td>7.918</td>\n      <td>NaN</td>\n      <td>NaN</td>\n      <td>SPEAKER_01</td>\n      <td>NaN</td>\n      <td>NaN</td>\n      <td>59.002</td>\n    </tr>\n    <tr>\n      <th>20</th>\n      <td>SPEAKER</td>\n      <td>Mixed.normalized</td>\n      <td>1</td>\n      <td>59.002</td>\n      <td>2.696</td>\n      <td>NaN</td>\n      <td>NaN</td>\n      <td>SPEAKER_00</td>\n      <td>NaN</td>\n      <td>NaN</td>\n      <td>61.698</td>\n    </tr>\n    <tr>\n      <th>21</th>\n      <td>SPEAKER</td>\n      <td>Mixed.normalized</td>\n      <td>1</td>\n      <td>61.101</td>\n      <td>5.017</td>\n      <td>NaN</td>\n      <td>NaN</td>\n      <td>SPEAKER_01</td>\n      <td>NaN</td>\n      <td>NaN</td>\n      <td>66.118</td>\n    </tr>\n    <tr>\n      <th>22</th>\n      <td>SPEAKER</td>\n      <td>Mixed.normalized</td>\n      <td>1</td>\n      <td>67.688</td>\n      <td>1.485</td>\n      <td>NaN</td>\n      <td>NaN</td>\n      <td>SPEAKER_00</td>\n      <td>NaN</td>\n      <td>NaN</td>\n      <td>69.173</td>\n    </tr>\n    <tr>\n      <th>23</th>\n      <td>SPEAKER</td>\n      <td>Mixed.normalized</td>\n      <td>1</td>\n      <td>68.473</td>\n      <td>9.915</td>\n      <td>NaN</td>\n      <td>NaN</td>\n      <td>SPEAKER_01</td>\n      <td>NaN</td>\n      <td>NaN</td>\n      <td>78.388</td>\n    </tr>\n    <tr>\n      <th>24</th>\n      <td>SPEAKER</td>\n      <td>Mixed.normalized</td>\n      <td>1</td>\n      <td>82.329</td>\n      <td>16.007</td>\n      <td>NaN</td>\n      <td>NaN</td>\n      <td>SPEAKER_01</td>\n      <td>NaN</td>\n      <td>NaN</td>\n      <td>98.336</td>\n    </tr>\n    <tr>\n      <th>25</th>\n      <td>SPEAKER</td>\n      <td>Mixed.normalized</td>\n      <td>1</td>\n      <td>99.224</td>\n      <td>0.768</td>\n      <td>NaN</td>\n      <td>NaN</td>\n      <td>SPEAKER_00</td>\n      <td>NaN</td>\n      <td>NaN</td>\n      <td>99.992</td>\n    </tr>\n  </tbody>\n</table>\n</div>"
     },
     "execution_count": 4,
     "metadata": {},
     "output_type": "execute_result"
    }
   ],
   "source": [
    "diarization = rttm.RTTMReader.read(diarization_path)\n",
    "diarization = pd.DataFrame.from_records(diarization)\n",
    "diarization[\"end\"] = diarization[\"start\"] + diarization[\"duration\"]\n",
    "diarization"
   ],
   "metadata": {
    "collapsed": false,
    "ExecuteTime": {
     "end_time": "2023-07-08T11:19:40.638814034Z",
     "start_time": "2023-07-08T11:19:40.589912032Z"
    }
   }
  },
  {
   "cell_type": "code",
   "execution_count": 5,
   "outputs": [
    {
     "name": "stderr",
     "output_type": "stream",
     "text": [
      "Reading: 100%|██████████| 1/1 [00:00<00:00, 6384.02it/s]\n"
     ]
    },
    {
     "data": {
      "text/plain": "{'mapping': {'SPEAKER_00': 'Left.normalized.wav',\n  'SPEAKER_01': 'Right.normalized.wav'},\n 'agreement': 0.52}"
     },
     "execution_count": 5,
     "metadata": {},
     "output_type": "execute_result"
    }
   ],
   "source": [
    "identification = json.JSONReader.read(identification_path)\n",
    "mapping = identification[\"mapping\"]\n",
    "identification"
   ],
   "metadata": {
    "collapsed": false,
    "ExecuteTime": {
     "end_time": "2023-07-08T11:19:43.131102824Z",
     "start_time": "2023-07-08T11:19:43.121395276Z"
    }
   }
  },
  {
   "cell_type": "code",
   "execution_count": null,
   "outputs": [],
   "source": [
    "for transcription_index in range(transcription.shape[0]):\n",
    "    transcription_row = transcription.iloc[transcription_index]\n",
    "    matching_diarization_index = None\n",
    "    highest_iou_index, highest_iou = None, 0.0\n",
    "    for diarization_index in range(diarization.shape[0]):\n",
    "        diarization_row = diarization.iloc[diarization_index]\n",
    "        intersection_start = max(transcription_row[\"start\"], diarization_row[\"start\"])\n",
    "        intersection_end = min(transcription_row[\"end\"], diarization_row[\"end\"])\n",
    "        union_start = min(transcription_row[\"start\"], diarization_row[\"start\"])\n",
    "        union_end = max(transcription_row[\"end\"], diarization_row[\"end\"])\n",
    "        intersection_duration = max(0.0, intersection_end - intersection_start)\n",
    "        union_duration = max(0.0, union_end - union_start)\n",
    "        iou = intersection_duration / union_duration\n",
    "        if iou > highest_iou:\n",
    "            highest_iou_index, highest_iou = diarization_index, iou\n",
    "    matching_diarization_index = highest_iou_index\n",
    "    # if matching_diarization_index is None:\n",
    "    #     transcription_center = transcription_row[[\"start\", \"end\"]].mean()\n",
    "    #     lowest_distance_index, lowest_distance = None, np.inf\n",
    "    #     for diarization_index in range(diarization.shape[0]):\n",
    "    #         diarization_row = diarization.iloc[diarization_index]\n",
    "    #         diarization_center = diarization_row[[\"start\", \"end\"]].mean()\n",
    "    #         distance = np.abs(transcription_center - diarization_center)\n",
    "    #         if distance < lowest_distance:\n",
    "    #             lowest_distance_index, lowest_distance = diarization_index, distance\n",
    "    #     matching_diarization_index = lowest_distance_index\n",
    "    if matching_diarization_index is not None:\n",
    "        speaker_name = mapping[diarization.iloc[matching_diarization_index][\"speaker_name\"]]\n",
    "    else:\n",
    "        speaker_name = \"NA\"\n",
    "    transcription.loc[transcription_index, \"speaker\"] = speaker_name\n",
    "transcription"
   ],
   "metadata": {
    "collapsed": false
   }
  },
  {
   "cell_type": "code",
   "execution_count": null,
   "outputs": [],
   "source": [
    "segments = []\n",
    "for index in range(transcription.shape[0]):\n",
    "    segment = {\n",
    "        \"start\": transcription.iloc[index][\"start\"],\n",
    "        \"end\": transcription.iloc[index][\"end\"],\n",
    "        \"speaker\": transcription.iloc[index][\"speaker\"],\n",
    "        \"text\": transcription.iloc[index][\"text\"],\n",
    "    }\n",
    "    segments.append(segment)\n",
    "vtt.VTTWriter.write(\n",
    "    path=\"/home/guillaume/Datasets/UNIL/CH.102/Transcriptions/Mixed.normalized.enhanced.vtt\",\n",
    "    segments=segments,\n",
    "    verbose=True,\n",
    "    overwrite=True,\n",
    ")"
   ],
   "metadata": {
    "collapsed": false
   }
  },
  {
   "cell_type": "code",
   "execution_count": null,
   "outputs": [],
   "source": [],
   "metadata": {
    "collapsed": false
   }
  }
 ],
 "metadata": {
  "kernelspec": {
   "display_name": "Python 3",
   "language": "python",
   "name": "python3"
  },
  "language_info": {
   "codemirror_mode": {
    "name": "ipython",
    "version": 2
   },
   "file_extension": ".py",
   "mimetype": "text/x-python",
   "name": "python",
   "nbconvert_exporter": "python",
   "pygments_lexer": "ipython2",
   "version": "2.7.6"
  }
 },
 "nbformat": 4,
 "nbformat_minor": 0
}
