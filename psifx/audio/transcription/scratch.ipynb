{
 "cells": [
  {
   "cell_type": "code",
   "execution_count": null,
   "metadata": {
    "collapsed": true
   },
   "outputs": [],
   "source": [
    "from pathlib import Path\n",
    "\n",
    "import pandas as pd\n",
    "\n",
    "from psifx.io import json, rttm, vtt\n",
    "import numpy as np"
   ]
  },
  {
   "cell_type": "code",
   "execution_count": null,
   "outputs": [],
   "source": [
    "root = Path(\"/home/guillaume/Datasets/UNIL/CH.102\")\n",
    "transcription_path = root / \"Transcriptions/CH.102.combined.vtt\"\n",
    "diarization_path = root / \"Diarizations/CH.102.combined.rttm\"\n",
    "identification_path = root / \"Identifications/CH.102.combined.json\"\n",
    "enhanced_transcription_path = root / \"Transcriptions/CH.102.combined.enhanced.vtt\""
   ],
   "metadata": {
    "collapsed": false
   }
  },
  {
   "cell_type": "code",
   "execution_count": null,
   "outputs": [],
   "source": [
    "transcription = vtt.VTTReader.read(transcription_path)\n",
    "transcription = pd.DataFrame.from_records(transcription)\n",
    "transcription"
   ],
   "metadata": {
    "collapsed": false
   }
  },
  {
   "cell_type": "code",
   "execution_count": null,
   "outputs": [],
   "source": [
    "diarization = rttm.RTTMReader.read(diarization_path)\n",
    "diarization = pd.DataFrame.from_records(diarization)\n",
    "diarization[\"end\"] = diarization[\"start\"] + diarization[\"duration\"]\n",
    "diarization"
   ],
   "metadata": {
    "collapsed": false
   }
  },
  {
   "cell_type": "code",
   "execution_count": null,
   "outputs": [],
   "source": [
    "identification = json.JSONReader.read(identification_path)\n",
    "mapping = identification[\"mapping\"]\n",
    "identification"
   ],
   "metadata": {
    "collapsed": false
   }
  },
  {
   "cell_type": "code",
   "execution_count": null,
   "outputs": [],
   "source": [
    "for transcription_index in range(transcription.shape[0]):\n",
    "    transcription_row = transcription.iloc[transcription_index]\n",
    "    matching_diarization_index = None\n",
    "    highest_iou_index, highest_iou = None, 0.0\n",
    "    for diarization_index in range(diarization.shape[0]):\n",
    "        diarization_row = diarization.iloc[diarization_index]\n",
    "        intersection_start = max(transcription_row[\"start\"], diarization_row[\"start\"])\n",
    "        intersection_end = min(transcription_row[\"end\"], diarization_row[\"end\"])\n",
    "        union_start = min(transcription_row[\"start\"], diarization_row[\"start\"])\n",
    "        union_end = max(transcription_row[\"end\"], diarization_row[\"end\"])\n",
    "        intersection_duration = max(0.0, intersection_end - intersection_start)\n",
    "        union_duration = max(0.0, union_end - union_start)\n",
    "        iou = intersection_duration / union_duration\n",
    "        if iou > highest_iou:\n",
    "            highest_iou_index, highest_iou = diarization_index, iou\n",
    "    matching_diarization_index = highest_iou_index\n",
    "    # if matching_diarization_index is None:\n",
    "    #     transcription_center = transcription_row[[\"start\", \"end\"]].mean()\n",
    "    #     lowest_distance_index, lowest_distance = None, np.inf\n",
    "    #     for diarization_index in range(diarization.shape[0]):\n",
    "    #         diarization_row = diarization.iloc[diarization_index]\n",
    "    #         diarization_center = diarization_row[[\"start\", \"end\"]].mean()\n",
    "    #         distance = np.abs(transcription_center - diarization_center)\n",
    "    #         if distance < lowest_distance:\n",
    "    #             lowest_distance_index, lowest_distance = diarization_index, distance\n",
    "    #     matching_diarization_index = lowest_distance_index\n",
    "    if matching_diarization_index is not None:\n",
    "        speaker_name = mapping[diarization.iloc[matching_diarization_index][\"speaker_name\"]]\n",
    "    else:\n",
    "        speaker_name = \"NA\"\n",
    "    transcription.loc[transcription_index, \"speaker\"] = speaker_name\n",
    "transcription"
   ],
   "metadata": {
    "collapsed": false
   }
  },
  {
   "cell_type": "code",
   "execution_count": null,
   "outputs": [],
   "source": [
    "segments = []\n",
    "for index in range(transcription.shape[0]):\n",
    "    segment = {\n",
    "        \"start\": transcription.iloc[index][\"start\"],\n",
    "        \"end\": transcription.iloc[index][\"end\"],\n",
    "        \"speaker\": transcription.iloc[index][\"speaker\"],\n",
    "        \"text\": transcription.iloc[index][\"text\"],\n",
    "    }\n",
    "    segments.append(segment)\n",
    "vtt.VTTWriter.write(\n",
    "    path=\"/home/guillaume/Datasets/UNIL/CH.102/Transcriptions/CH.102.combined.enhanced.vtt\",\n",
    "    segments=segments,\n",
    "    verbose=True,\n",
    "    overwrite=True,\n",
    ")"
   ],
   "metadata": {
    "collapsed": false
   }
  },
  {
   "cell_type": "code",
   "execution_count": null,
   "outputs": [],
   "source": [],
   "metadata": {
    "collapsed": false
   }
  }
 ],
 "metadata": {
  "kernelspec": {
   "display_name": "Python 3",
   "language": "python",
   "name": "python3"
  },
  "language_info": {
   "codemirror_mode": {
    "name": "ipython",
    "version": 2
   },
   "file_extension": ".py",
   "mimetype": "text/x-python",
   "name": "python",
   "nbconvert_exporter": "python",
   "pygments_lexer": "ipython2",
   "version": "2.7.6"
  }
 },
 "nbformat": 4,
 "nbformat_minor": 0
}
