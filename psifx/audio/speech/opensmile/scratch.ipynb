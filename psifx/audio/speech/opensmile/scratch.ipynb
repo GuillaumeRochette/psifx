{
 "cells": [
  {
   "cell_type": "code",
   "execution_count": 16,
   "metadata": {
    "collapsed": true,
    "ExecuteTime": {
     "end_time": "2023-06-13T07:18:36.609167379Z",
     "start_time": "2023-06-13T07:18:36.601666225Z"
    }
   },
   "outputs": [],
   "source": [
    "from pathlib import Path\n",
    "from psifx.io.rttm import RTTMReader\n",
    "import numpy as np\n",
    "import pandas as pd\n",
    "from pydub import AudioSegment\n",
    "from psifx.audio.identification.pyannote.tool import cropped_waveform\n",
    "import opensmile"
   ]
  },
  {
   "cell_type": "code",
   "execution_count": 2,
   "outputs": [
    {
     "name": "stderr",
     "output_type": "stream",
     "text": [
      "Decoding: 100%|██████████| 26/26 [00:00<00:00, 732.36it/s]\n"
     ]
    }
   ],
   "source": [
    "diarization_path = Path(\"/home/guillaume/Datasets/UNIL/CH.102/Diarizations/CH.102.combined.rttm\")\n",
    "diarization_segments = RTTMReader.read(diarization_path)"
   ],
   "metadata": {
    "collapsed": false,
    "ExecuteTime": {
     "end_time": "2023-06-13T06:57:23.336481466Z",
     "start_time": "2023-06-13T06:57:23.233070282Z"
    }
   }
  },
  {
   "cell_type": "code",
   "execution_count": 3,
   "outputs": [],
   "source": [
    "audio_path = Path(\"/home/guillaume/Datasets/UNIL/CH.102/Audios/CH.102.combined.wav\")"
   ],
   "metadata": {
    "collapsed": false,
    "ExecuteTime": {
     "end_time": "2023-06-13T06:57:40.022522683Z",
     "start_time": "2023-06-13T06:57:40.015564327Z"
    }
   }
  },
  {
   "cell_type": "code",
   "execution_count": 13,
   "outputs": [
    {
     "name": "stdout",
     "output_type": "stream",
     "text": [
      "6373\n"
     ]
    }
   ],
   "source": [
    "import opensmile\n",
    "\n",
    "smile = opensmile.Smile(\n",
    "    feature_set=opensmile.FeatureSet.ComParE_2016,\n",
    "    feature_level=opensmile.FeatureLevel.Functionals,\n",
    ")\n",
    "print(len(smile.feature_names))"
   ],
   "metadata": {
    "collapsed": false,
    "ExecuteTime": {
     "end_time": "2023-06-13T07:09:45.607425212Z",
     "start_time": "2023-06-13T07:09:45.449500476Z"
    }
   }
  },
  {
   "cell_type": "code",
   "execution_count": 24,
   "outputs": [],
   "source": [
    "def audio_segment_to_waveform(audio: AudioSegment) -> np.ndarray:\n",
    "    samples = [c.get_array_of_samples() for c in audio.split_to_mono()]\n",
    "    waveform = np.array(samples).T.astype(np.float32)\n",
    "    waveform /= np.iinfo(samples[0].typecode).max\n",
    "    return waveform"
   ],
   "metadata": {
    "collapsed": false,
    "ExecuteTime": {
     "end_time": "2023-06-13T07:30:28.420432257Z",
     "start_time": "2023-06-13T07:30:28.378553646Z"
    }
   }
  },
  {
   "cell_type": "code",
   "execution_count": 28,
   "outputs": [
    {
     "name": "stdout",
     "output_type": "stream",
     "text": [
      "(60480, 1)\n",
      "(175504, 1)\n",
      "(10256, 1)\n",
      "(74528, 1)\n",
      "(21600, 1)\n",
      "(76144, 1)\n",
      "(4864, 1)\n",
      "(21040, 1)\n",
      "(116096, 1)\n",
      "(25648, 1)\n",
      "(95312, 1)\n",
      "(14032, 1)\n",
      "(21056, 1)\n",
      "(18896, 1)\n",
      "(49680, 1)\n",
      "(41040, 1)\n",
      "(5664, 1)\n",
      "(121232, 1)\n",
      "(52384, 1)\n",
      "(80176, 1)\n",
      "(28080, 1)\n",
      "(162272, 1)\n",
      "(127440, 1)\n",
      "(42656, 1)\n",
      "(186576, 1)\n",
      "(4864, 1)\n"
     ]
    },
    {
     "data": {
      "text/plain": "                               audspec_lengthL1norm_sma_range  \\\nstart  end                                                      \n0 days 0 days 00:00:00.000062                             NaN   \n\n                               audspec_lengthL1norm_sma_maxPos  \\\nstart  end                                                       \n0 days 0 days 00:00:00.000062                              NaN   \n\n                               audspec_lengthL1norm_sma_minPos  \\\nstart  end                                                       \n0 days 0 days 00:00:00.000062                              NaN   \n\n                               audspec_lengthL1norm_sma_quartile1  \\\nstart  end                                                          \n0 days 0 days 00:00:00.000062                                 NaN   \n\n                               audspec_lengthL1norm_sma_quartile2  \\\nstart  end                                                          \n0 days 0 days 00:00:00.000062                                 NaN   \n\n                               audspec_lengthL1norm_sma_quartile3  \\\nstart  end                                                          \n0 days 0 days 00:00:00.000062                                 NaN   \n\n                               audspec_lengthL1norm_sma_iqr1-2  \\\nstart  end                                                       \n0 days 0 days 00:00:00.000062                              NaN   \n\n                               audspec_lengthL1norm_sma_iqr2-3  \\\nstart  end                                                       \n0 days 0 days 00:00:00.000062                              NaN   \n\n                               audspec_lengthL1norm_sma_iqr1-3  \\\nstart  end                                                       \n0 days 0 days 00:00:00.000062                              NaN   \n\n                               audspec_lengthL1norm_sma_percentile1.0  ...  \\\nstart  end                                                             ...   \n0 days 0 days 00:00:00.000062                                     NaN  ...   \n\n                               mfcc_sma_de[14]_peakRangeAbs  \\\nstart  end                                                    \n0 days 0 days 00:00:00.000062                           NaN   \n\n                               mfcc_sma_de[14]_peakRangeRel  \\\nstart  end                                                    \n0 days 0 days 00:00:00.000062                           NaN   \n\n                               mfcc_sma_de[14]_peakMeanAbs  \\\nstart  end                                                   \n0 days 0 days 00:00:00.000062                          NaN   \n\n                               mfcc_sma_de[14]_peakMeanMeanDist  \\\nstart  end                                                        \n0 days 0 days 00:00:00.000062                               NaN   \n\n                               mfcc_sma_de[14]_peakMeanRel  \\\nstart  end                                                   \n0 days 0 days 00:00:00.000062                          NaN   \n\n                               mfcc_sma_de[14]_minRangeRel  \\\nstart  end                                                   \n0 days 0 days 00:00:00.000062                          NaN   \n\n                               mfcc_sma_de[14]_meanRisingSlope  \\\nstart  end                                                       \n0 days 0 days 00:00:00.000062                              NaN   \n\n                               mfcc_sma_de[14]_stddevRisingSlope  \\\nstart  end                                                         \n0 days 0 days 00:00:00.000062                                NaN   \n\n                               mfcc_sma_de[14]_meanFallingSlope  \\\nstart  end                                                        \n0 days 0 days 00:00:00.000062                               NaN   \n\n                               mfcc_sma_de[14]_stddevFallingSlope  \nstart  end                                                         \n0 days 0 days 00:00:00.000062                                 NaN  \n\n[1 rows x 6373 columns]",
      "text/html": "<div>\n<style scoped>\n    .dataframe tbody tr th:only-of-type {\n        vertical-align: middle;\n    }\n\n    .dataframe tbody tr th {\n        vertical-align: top;\n    }\n\n    .dataframe thead th {\n        text-align: right;\n    }\n</style>\n<table border=\"1\" class=\"dataframe\">\n  <thead>\n    <tr style=\"text-align: right;\">\n      <th></th>\n      <th></th>\n      <th>audspec_lengthL1norm_sma_range</th>\n      <th>audspec_lengthL1norm_sma_maxPos</th>\n      <th>audspec_lengthL1norm_sma_minPos</th>\n      <th>audspec_lengthL1norm_sma_quartile1</th>\n      <th>audspec_lengthL1norm_sma_quartile2</th>\n      <th>audspec_lengthL1norm_sma_quartile3</th>\n      <th>audspec_lengthL1norm_sma_iqr1-2</th>\n      <th>audspec_lengthL1norm_sma_iqr2-3</th>\n      <th>audspec_lengthL1norm_sma_iqr1-3</th>\n      <th>audspec_lengthL1norm_sma_percentile1.0</th>\n      <th>...</th>\n      <th>mfcc_sma_de[14]_peakRangeAbs</th>\n      <th>mfcc_sma_de[14]_peakRangeRel</th>\n      <th>mfcc_sma_de[14]_peakMeanAbs</th>\n      <th>mfcc_sma_de[14]_peakMeanMeanDist</th>\n      <th>mfcc_sma_de[14]_peakMeanRel</th>\n      <th>mfcc_sma_de[14]_minRangeRel</th>\n      <th>mfcc_sma_de[14]_meanRisingSlope</th>\n      <th>mfcc_sma_de[14]_stddevRisingSlope</th>\n      <th>mfcc_sma_de[14]_meanFallingSlope</th>\n      <th>mfcc_sma_de[14]_stddevFallingSlope</th>\n    </tr>\n    <tr>\n      <th>start</th>\n      <th>end</th>\n      <th></th>\n      <th></th>\n      <th></th>\n      <th></th>\n      <th></th>\n      <th></th>\n      <th></th>\n      <th></th>\n      <th></th>\n      <th></th>\n      <th></th>\n      <th></th>\n      <th></th>\n      <th></th>\n      <th></th>\n      <th></th>\n      <th></th>\n      <th></th>\n      <th></th>\n      <th></th>\n      <th></th>\n    </tr>\n  </thead>\n  <tbody>\n    <tr>\n      <th>0 days</th>\n      <th>0 days 00:00:00.000062</th>\n      <td>NaN</td>\n      <td>NaN</td>\n      <td>NaN</td>\n      <td>NaN</td>\n      <td>NaN</td>\n      <td>NaN</td>\n      <td>NaN</td>\n      <td>NaN</td>\n      <td>NaN</td>\n      <td>NaN</td>\n      <td>...</td>\n      <td>NaN</td>\n      <td>NaN</td>\n      <td>NaN</td>\n      <td>NaN</td>\n      <td>NaN</td>\n      <td>NaN</td>\n      <td>NaN</td>\n      <td>NaN</td>\n      <td>NaN</td>\n      <td>NaN</td>\n    </tr>\n  </tbody>\n</table>\n<p>1 rows × 6373 columns</p>\n</div>"
     },
     "execution_count": 28,
     "metadata": {},
     "output_type": "execute_result"
    }
   ],
   "source": [
    "audio = AudioSegment.from_wav(audio_path)\n",
    "sample_rate = audio.frame_rate\n",
    "y = []\n",
    "for diarization_segment in diarization_segments:\n",
    "    start = diarization_segment[\"start\"]\n",
    "    end = diarization_segment[\"start\"] + diarization_segment[\"duration\"]\n",
    "    start = int(start * 1000)\n",
    "    end = int(end * 1000)\n",
    "    waveform = audio_segment_to_waveform(\n",
    "        audio=audio[start:end].fade_in(duration=30).fade_out(duration=30),\n",
    "    )\n",
    "    x = smile.process_signal(waveform, sample_rate)\n",
    "    y.append(x)\n",
    "x"
   ],
   "metadata": {
    "collapsed": false,
    "ExecuteTime": {
     "end_time": "2023-06-13T07:37:04.807082938Z",
     "start_time": "2023-06-13T07:37:03.779853752Z"
    }
   }
  },
  {
   "cell_type": "code",
   "execution_count": null,
   "outputs": [],
   "source": [],
   "metadata": {
    "collapsed": false
   }
  }
 ],
 "metadata": {
  "kernelspec": {
   "display_name": "Python 3",
   "language": "python",
   "name": "python3"
  },
  "language_info": {
   "codemirror_mode": {
    "name": "ipython",
    "version": 2
   },
   "file_extension": ".py",
   "mimetype": "text/x-python",
   "name": "python",
   "nbconvert_exporter": "python",
   "pygments_lexer": "ipython2",
   "version": "2.7.6"
  }
 },
 "nbformat": 4,
 "nbformat_minor": 0
}
